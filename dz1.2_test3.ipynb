{
 "cells": [
  {
   "cell_type": "code",
   "execution_count": 14,
   "metadata": {},
   "outputs": [
    {
     "ename": "TypeError",
     "evalue": "string indices must be integers, not 'str'",
     "output_type": "error",
     "traceback": [
      "\u001b[1;31m---------------------------------------------------------------------------\u001b[0m",
      "\u001b[1;31mTypeError\u001b[0m                                 Traceback (most recent call last)",
      "Cell \u001b[1;32mIn[14], line 16\u001b[0m\n\u001b[0;32m     14\u001b[0m \u001b[39mfor\u001b[39;00m item \u001b[39min\u001b[39;00m data:\n\u001b[0;32m     15\u001b[0m     \u001b[39mfor\u001b[39;00m company \u001b[39min\u001b[39;00m item[\u001b[39m'\u001b[39m\u001b[39mdata\u001b[39m\u001b[39m'\u001b[39m]:\n\u001b[1;32m---> 16\u001b[0m         \u001b[39mif\u001b[39;00m \u001b[39m'\u001b[39m\u001b[39mСвОКВЭД\u001b[39m\u001b[39m'\u001b[39m \u001b[39min\u001b[39;00m company \u001b[39mand\u001b[39;00m \u001b[39m'\u001b[39m\u001b[39mСвОКВЭДОсн\u001b[39m\u001b[39m'\u001b[39m \u001b[39min\u001b[39;00m company[\u001b[39m'\u001b[39;49m\u001b[39mСвОКВЭД\u001b[39;49m\u001b[39m'\u001b[39;49m] \u001b[39mand\u001b[39;00m \\\n\u001b[0;32m     17\u001b[0m                 company[\u001b[39m'\u001b[39m\u001b[39mСвОКВЭД\u001b[39m\u001b[39m'\u001b[39m][\u001b[39m'\u001b[39m\u001b[39mСвОКВЭДОсн\u001b[39m\u001b[39m'\u001b[39m]\u001b[39m.\u001b[39mget(\u001b[39m'\u001b[39m\u001b[39mКодОКВЭД\u001b[39m\u001b[39m'\u001b[39m) \u001b[39m==\u001b[39m \u001b[39m'\u001b[39m\u001b[39m61\u001b[39m\u001b[39m'\u001b[39m:\n\u001b[0;32m     18\u001b[0m             inn \u001b[39m=\u001b[39m company[\u001b[39m'\u001b[39m\u001b[39mСвЮЛ\u001b[39m\u001b[39m'\u001b[39m][\u001b[39m'\u001b[39m\u001b[39mИНН\u001b[39m\u001b[39m'\u001b[39m]\n\u001b[0;32m     19\u001b[0m             kpp \u001b[39m=\u001b[39m company[\u001b[39m'\u001b[39m\u001b[39mСвЮЛ\u001b[39m\u001b[39m'\u001b[39m][\u001b[39m'\u001b[39m\u001b[39mКПП\u001b[39m\u001b[39m'\u001b[39m]\n",
      "\u001b[1;31mTypeError\u001b[0m: string indices must be integers, not 'str'"
     ]
    }
   ],
   "source": [
    "import zipfile\n",
    "import json\n",
    "import pandas as pd\n",
    "import sqlite3\n",
    "\n",
    "# создаем пустой DataFrame\n",
    "df = pd.DataFrame(columns=['inn', 'kpp', 'ogrn', 'name', 'okved'])\n",
    "\n",
    "# проходим по каждому файлу и добавляем данные в DataFrame\n",
    "with zipfile.ZipFile('archive.zip', 'r') as f:\n",
    "    for file_name in f.namelist():\n",
    "        with f.open(file_name) as json_file:\n",
    "            data = json.load(json_file)\n",
    "            for item in data:\n",
    "                for company in item['data']:\n",
    "                    if 'СвОКВЭД' in company and 'СвОКВЭДОсн' in company['СвОКВЭД'] and \\\n",
    "                            company['СвОКВЭД']['СвОКВЭДОсн'].get('КодОКВЭД') == '61':\n",
    "                        inn = company['СвЮЛ']['ИНН']\n",
    "                        kpp = company['СвЮЛ']['КПП']\n",
    "                        ogrn = company['СвЮЛ']['ОГРН']\n",
    "                        name = company['СвЮЛ']['НаимЮЛПолн']\n",
    "                        okved = company['СвОКВЭД']['СвОКВЭДОсн']['НаимОКВЭД']\n",
    "                        df = df.append({'inn': inn, 'kpp': kpp, 'ogrn': ogrn, 'name': name, 'okved': okved},\n",
    "                                       ignore_index=True)"
   ]
  },
  {
   "cell_type": "code",
   "execution_count": 15,
   "metadata": {},
   "outputs": [
    {
     "ename": "ValueError",
     "evalue": "Attempt to use ZIP archive that was already closed",
     "output_type": "error",
     "traceback": [
      "\u001b[1;31m---------------------------------------------------------------------------\u001b[0m",
      "\u001b[1;31mValueError\u001b[0m                                Traceback (most recent call last)",
      "Cell \u001b[1;32mIn[15], line 8\u001b[0m\n\u001b[0;32m      6\u001b[0m \u001b[39m# проходим по каждому файлу и добавляем данные в DataFrame\u001b[39;00m\n\u001b[0;32m      7\u001b[0m \u001b[39mfor\u001b[39;00m file_name \u001b[39min\u001b[39;00m file_list:\n\u001b[1;32m----> 8\u001b[0m     \u001b[39mwith\u001b[39;00m f\u001b[39m.\u001b[39;49mopen(file_name) \u001b[39mas\u001b[39;00m json_file:\n\u001b[0;32m      9\u001b[0m         data \u001b[39m=\u001b[39m json\u001b[39m.\u001b[39mload(json_file)\n\u001b[0;32m     10\u001b[0m         \u001b[39mfor\u001b[39;00m company \u001b[39min\u001b[39;00m data[\u001b[39m'\u001b[39m\u001b[39mdata\u001b[39m\u001b[39m'\u001b[39m]:\n",
      "File \u001b[1;32mc:\\Users\\UB\\AppData\\Local\\Programs\\Python\\Python311\\Lib\\zipfile.py:1533\u001b[0m, in \u001b[0;36mZipFile.open\u001b[1;34m(self, name, mode, pwd, force_zip64)\u001b[0m\n\u001b[0;32m   1531\u001b[0m     \u001b[39mraise\u001b[39;00m \u001b[39mValueError\u001b[39;00m(\u001b[39m\"\u001b[39m\u001b[39mpwd is only supported for reading files\u001b[39m\u001b[39m\"\u001b[39m)\n\u001b[0;32m   1532\u001b[0m \u001b[39mif\u001b[39;00m \u001b[39mnot\u001b[39;00m \u001b[39mself\u001b[39m\u001b[39m.\u001b[39mfp:\n\u001b[1;32m-> 1533\u001b[0m     \u001b[39mraise\u001b[39;00m \u001b[39mValueError\u001b[39;00m(\n\u001b[0;32m   1534\u001b[0m         \u001b[39m\"\u001b[39m\u001b[39mAttempt to use ZIP archive that was already closed\u001b[39m\u001b[39m\"\u001b[39m)\n\u001b[0;32m   1536\u001b[0m \u001b[39m# Make sure we have an info object\u001b[39;00m\n\u001b[0;32m   1537\u001b[0m \u001b[39mif\u001b[39;00m \u001b[39misinstance\u001b[39m(name, ZipInfo):\n\u001b[0;32m   1538\u001b[0m     \u001b[39m# 'name' is already an info object\u001b[39;00m\n",
      "\u001b[1;31mValueError\u001b[0m: Attempt to use ZIP archive that was already closed"
     ]
    }
   ],
   "source": [
    "# открываем архив и получаем список файлов\n",
    "with zipfile.ZipFile('archive.zip', 'r') as f:\n",
    "    file_list = f.namelist()\n",
    "# создаем пустой DataFrame\n",
    "df = pd.DataFrame(columns=['inn', 'kpp', 'ogrn', 'name', 'okved'])\n",
    "# проходим по каждому файлу и добавляем данные в DataFrame\n",
    "for file_name in file_list:\n",
    "    with f.open(file_name) as json_file:\n",
    "        data = json.load(json_file)\n",
    "        for company in data['data']:\n",
    "            if 'СвОКВЭД' in company and 'СвОКВЭДОсн' in company['СвОКВЭД'] and \\\n",
    "                    company['СвОКВЭД']['СвОКВЭДОсн'].get('КодОКВЭД') == '61':\n",
    "                inn = company['СвЮЛ']['ИНН']\n",
    "                kpp = company['СвЮЛ']['КПП']\n",
    "                ogrn = company['СвЮЛ']['ОГРН']\n",
    "                name = company['СвЮЛ']['НаимЮЛПолн']\n",
    "                okved = company['СвОКВЭД']['СвОКВЭДОсн']['НаимОКВЭД']\n",
    "                df = df.append({'inn': inn, 'kpp': kpp, 'ogrn': ogrn, 'name': name, 'okved': okved},\n",
    "                               ignore_index=True)"
   ]
  }
 ],
 "metadata": {
  "kernelspec": {
   "display_name": "Python 3",
   "language": "python",
   "name": "python3"
  },
  "language_info": {
   "codemirror_mode": {
    "name": "ipython",
    "version": 3
   },
   "file_extension": ".py",
   "mimetype": "text/x-python",
   "name": "python",
   "nbconvert_exporter": "python",
   "pygments_lexer": "ipython3",
   "version": "3.11.3"
  },
  "orig_nbformat": 4
 },
 "nbformat": 4,
 "nbformat_minor": 2
}
