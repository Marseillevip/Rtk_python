{
 "cells": [
  {
   "cell_type": "code",
   "execution_count": 10,
   "metadata": {},
   "outputs": [
    {
     "name": "stdout",
     "output_type": "stream",
     "text": [
      "2023-06-28 09:14:50,838 INFO sqlalchemy.engine.Engine BEGIN (implicit)\n",
      "2023-06-28 09:14:50,841 INFO sqlalchemy.engine.Engine PRAGMA main.table_info(\"telecom_companyes\")\n",
      "2023-06-28 09:14:50,843 INFO sqlalchemy.engine.Engine [raw sql] ()\n",
      "2023-06-28 09:14:50,849 INFO sqlalchemy.engine.Engine COMMIT\n"
     ]
    },
    {
     "name": "stderr",
     "output_type": "stream",
     "text": [
      "C:\\Users\\UB\\AppData\\Local\\Temp\\ipykernel_8164\\3975625495.py:11: MovedIn20Warning: The ``declarative_base()`` function is now available as sqlalchemy.orm.declarative_base(). (deprecated since: 2.0) (Background on SQLAlchemy 2.0 at: https://sqlalche.me/e/b8d9)\n",
      "  Base = declarative_base()\n"
     ]
    }
   ],
   "source": [
    "import os\n",
    "import json\n",
    "import zipfile\n",
    "import pandas as pd\n",
    "from sqlalchemy import create_engine, Column, Integer, String\n",
    "from sqlalchemy.ext.declarative import declarative_base\n",
    "from sqlalchemy.orm import sessionmaker\n",
    "\n",
    "# Создаем базу данных и таблицу\n",
    "engine = create_engine('sqlite:///hw1.db', echo=True)\n",
    "Base = declarative_base()\n",
    "\n",
    "class TelecomCompany(Base):\n",
    "    __tablename__ = 'telecom_companyes'\n",
    "\n",
    "    id = Column(Integer, primary_key=True)\n",
    "    inn = Column(Integer)\n",
    "    kpp = Column(Integer)\n",
    "    ogrn = Column(Integer)\n",
    "    name = Column(String)\n",
    "    okved = Column(String)\n",
    "\n",
    "    def __repr__(self):\n",
    "        return f\"<TelecomCompany(inn='{self.inn}', kpp='{self.kpp}', ogrn='{self.ogrn}', name='{self.name}', okved='{self.okved}')>\"\n",
    "\n",
    "Base.metadata.create_all(engine)\n",
    "\n",
    "# Открываем архив и обрабатываем файлы\n",
    "with zipfile.ZipFile('archive.zip', 'r') as zip_ref:\n",
    "    for file_name in zip_ref.namelist():\n",
    "        if file_name.endswith('.json'):\n",
    "            with zip_ref.open(file_name) as file:\n",
    "                data = json.load(file)\n",
    "                try:\n",
    "                    if 'СвОКВЭД' in data and 'СвОКВЭДОсн' in data['СвОКВЭД']:\n",
    "                        okved = data['СвОКВЭД']['СвОКВЭДОсн']['КодОКВЭД']\n",
    "                        telecom_company = TelecomCompany(inn=data['inn'], kpp=data['kpp'], ogrn=data['ogrn'], name=data['name'], okved=okved)\n",
    "                        Session = sessionmaker(bind=engine)\n",
    "                        session = Session()\n",
    "                        session.add(telecom_company)\n",
    "                        session.commit()\n",
    "                except error:\n",
    "                    print('error')\n",
    "                    continue \n",
    "\n"
   ]
  }
 ],
 "metadata": {
  "kernelspec": {
   "display_name": "Python 3",
   "language": "python",
   "name": "python3"
  },
  "language_info": {
   "codemirror_mode": {
    "name": "ipython",
    "version": 3
   },
   "file_extension": ".py",
   "mimetype": "text/x-python",
   "name": "python",
   "nbconvert_exporter": "python",
   "pygments_lexer": "ipython3",
   "version": "3.11.3"
  },
  "orig_nbformat": 4
 },
 "nbformat": 4,
 "nbformat_minor": 2
}
