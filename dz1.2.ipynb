{
 "cells": [
  {
   "cell_type": "code",
   "execution_count": 3,
   "metadata": {},
   "outputs": [
    {
     "name": "stdout",
     "output_type": "stream",
     "text": [
      "Количество организаций в таблице: 6\n"
     ]
    }
   ],
   "source": [
    "import pandas as pd\n",
    "from sqlalchemy import create_engine\n",
    "import sqlite3\n",
    "import orjson\n",
    "import zipfile\n",
    "from pathlib import Path\n",
    "\n",
    "# Create a connection to the SQLite database\n",
    "db = sqlite3.connect('hw1.db')\n",
    "cursor = db.cursor()\n",
    "cursor.execute('CREATE TABLE IF NOT EXISTS telecom_companies (inn WARCHAR(13), name WARCHAR(200), okved WARCHAR(20), kpp WARCHAR(9), ogrn WARCHAR(13))')\n",
    "db.commit()\n",
    "\n",
    "#counter = 0\n",
    "sql_query = 'INSERT INTO telecom_companies (inn , name , okved , kpp , ogrn) VALUES (?, ?, ?, ?, ?)'\n",
    "\n",
    "with zipfile.ZipFile('archive.zip', 'r') as zf:\n",
    "    file_names = zf.namelist()\n",
    "    for name in file_names:\n",
    "        zf.extract(name)\n",
    "        with open(name, 'r', encoding='utf8') as f:\n",
    "            spr = orjson.loads(f.read()) \n",
    "        for itm in spr: \n",
    "            if 'СвОКВЭД' in itm['data']: \n",
    "                if 'СвОКВЭДОсн' in itm['data']['СвОКВЭД']:\n",
    "                    okv = itm['data']['СвОКВЭД']['СвОКВЭДОсн']\n",
    "                    if okv['КодОКВЭД'][:3] == '61.':\n",
    "                        try:\n",
    "                            cursor.execute(sql_query, [itm['inn'], itm['name'], okv['КодОКВЭД'], itm['kpp'], itm['ogrn']])\n",
    "                        except:\n",
    "                            print('Что-то пошло не так!')\n",
    "                            db.close()\n",
    "                            exit(1)\n",
    "        path = Path(name)\n",
    "        path.unlink()\n",
    "\n",
    "db.commit()\n",
    "cursor.close()\n",
    "db.close()\n",
    "\n",
    "engine = create_engine('sqlite:///hw1.db')\n",
    "df = pd.read_sql_query('SELECT * FROM telecom_companies', engine)\n",
    "print(\"Количество организаций в таблице:\", len(df))\n",
    "engine.dispose()"
   ]
  }
 ],
 "metadata": {
  "kernelspec": {
   "display_name": "Python 3",
   "language": "python",
   "name": "python3"
  },
  "language_info": {
   "codemirror_mode": {
    "name": "ipython",
    "version": 3
   },
   "file_extension": ".py",
   "mimetype": "text/x-python",
   "name": "python",
   "nbconvert_exporter": "python",
   "pygments_lexer": "ipython3",
   "version": "3.11.3"
  },
  "orig_nbformat": 4
 },
 "nbformat": 4,
 "nbformat_minor": 2
}
