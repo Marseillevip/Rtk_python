{
 "cells": [
  {
   "cell_type": "code",
   "execution_count": 2,
   "metadata": {},
   "outputs": [],
   "source": [
    "import pandas as pd\n",
    "import zipfile\n",
    "from pathlib import Path\n",
    "from sqlalchemy import create_engine\n",
    "from sqlalchemy import URL\n",
    "from sqlalchemy import select\n",
    "from sqlalchemy.orm import Session\n",
    "from sqlalchemy import text\n",
    "import json\n",
    "import sqlite3\n",
    " \n",
    "connection = sqlite3.connect('hw1.db') # Создание базы данных в файле test.db\n",
    "cursor = connection.cursor() # Создаем курсор\n",
    "# Оператор SQL для создания таблицы\n",
    "create_names_table = \"\"\"\n",
    "CREATE TABLE IF NOT EXISTS telecom_companies(\n",
    "    inn INTEGER,\n",
    "    name TEXT,\n",
    "    kpp INTEGER,\n",
    "    ogrn INTEGER,\n",
    "    okved INTEGER \n",
    ")\n",
    "\"\"\"\n",
    "cursor.execute(create_names_table) # Запускаем команду создания таблицы\n",
    "connection.commit() # Фиксируем изменения\n",
    "# Оператор SQL для вставки данных в таблицу \n",
    "insert_data = \"\"\"\n",
    "INSERT INTO telecom_companies (inn, name, kpp, ogrn, okved)\n",
    "VALUES (?, ?, ?, ?, ?)\n",
    "\"\"\"\n"
   ]
  },
  {
   "cell_type": "code",
   "execution_count": 5,
   "metadata": {},
   "outputs": [
    {
     "data": {
      "text/plain": [
       "<function Connection.close()>"
      ]
     },
     "execution_count": 5,
     "metadata": {},
     "output_type": "execute_result"
    }
   ],
   "source": [
    "# проходим по каждому файлу и добавляем данные в DataFrame\n",
    "with zipfile.ZipFile('archive.zip', 'r') as f:\n",
    "    file_names = f.namelist()\n",
    "    for name in file_names:\n",
    "        dt = pd.read_json(f.open(name))\n",
    "        for i in range(len(dt)):\n",
    "            try:\n",
    "                if 'СвОКВЭД' in dt and 'СвОКВЭДОсн' in dt['СвОКВЭД']:\n",
    "                    okved = dt['СвОКВЭД']['СвОКВЭДОсн']['КодОКВЭД']\n",
    "                    if okved == 60:\n",
    "                        ogrn = dt['ogrn']\n",
    "                        inn = dt['inn']\n",
    "                        kpp = dt['kpp']\n",
    "                        name = dt['name']\n",
    "                        row = (int(inn)),name, okved,(int(ogrn)),(int(kpp))\n",
    "                        cursor.execute(insert_rows,row)\n",
    "                        connection.commit()\n",
    "            except Exception:\n",
    "                print('error')\n",
    "                continue\n",
    "cursor.close()    \n",
    "connection.close\n"
   ]
  }
 ],
 "metadata": {
  "kernelspec": {
   "display_name": "Python 3",
   "language": "python",
   "name": "python3"
  },
  "language_info": {
   "codemirror_mode": {
    "name": "ipython",
    "version": 3
   },
   "file_extension": ".py",
   "mimetype": "text/x-python",
   "name": "python",
   "nbconvert_exporter": "python",
   "pygments_lexer": "ipython3",
   "version": "3.11.3"
  },
  "orig_nbformat": 4
 },
 "nbformat": 4,
 "nbformat_minor": 2
}
