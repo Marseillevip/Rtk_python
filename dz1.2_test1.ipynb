{
 "cells": [
  {
   "cell_type": "code",
   "execution_count": 1,
   "metadata": {},
   "outputs": [],
   "source": [
    "import pandas as pd\n",
    "import zipfile\n",
    "from pathlib import Path\n",
    "from sqlalchemy import create_engine\n",
    "from sqlalchemy import URL\n",
    "from sqlalchemy import select\n",
    "from sqlalchemy.orm import Session\n",
    "from sqlalchemy import text\n",
    "import json\n"
   ]
  },
  {
   "cell_type": "code",
   "execution_count": 8,
   "metadata": {},
   "outputs": [],
   "source": [
    "#names = pd.read_json(\"07663.json\",\n",
    "      ###               encoding=\"utf8\")\n",
    "\n",
    "#engine = create_engine(\"sqlite:///hw1.db\", echo=True)"
   ]
  },
  {
   "cell_type": "code",
   "execution_count": 5,
   "metadata": {},
   "outputs": [
    {
     "ename": "SyntaxError",
     "evalue": "expected 'except' or 'finally' block (2225719229.py, line 27)",
     "output_type": "error",
     "traceback": [
      "\u001b[1;36m  Cell \u001b[1;32mIn[5], line 27\u001b[1;36m\u001b[0m\n\u001b[1;33m    path = Path(name)\u001b[0m\n\u001b[1;37m    ^\u001b[0m\n\u001b[1;31mSyntaxError\u001b[0m\u001b[1;31m:\u001b[0m expected 'except' or 'finally' block\n"
     ]
    }
   ],
   "source": [
    "#with open ('07663.json','r', encoding='utf8') as file:\n",
    "    #base = json.load(file)\n",
    "with zipfile.ZipFile('egrul.json1.zip', 'r') as file:\n",
    "    file_names = file.namelist()\n",
    "    for name in file_names:\n",
    "        # Распаковываем один файл\n",
    "        file.extract(name)\n",
    "        # Обрабатываем файл\n",
    "        with open ('name','r', encoding='utf8') as file:\n",
    "            base = json.load(file)\n",
    "            for perv in base:\n",
    "                try:\n",
    "                    if base['data']['СвОКВЭД']['СвОКВЭДОсн']['КодОКВЭД'] in okved_61:\n",
    "                        ogrn = perv['ogrn']\n",
    "                        inn = perv['inn']\n",
    "                        kpp = perv['kpp']\n",
    "                        name = perv['name']\n",
    "                    #for okved in perv['data']['СвОКВЭД']['СвОКВЭДОсн']['КодОКВЭД']:\n",
    "                    #okved = perv['data']['СвОКВЭД']['СвОКВЭДОсн']['КодОКВЭД']\n",
    "                    #if okved =='46.77':\n",
    "                    #print(okved,ogrn,inn,kpp,name)\n",
    "                        engine = create_engine(\"sqlite:///hw1.db\", echo=True)\n",
    "                        names['ogrn', 'inn', 'kpp', 'name','okved'].to_sql(\"telecom_companies\",\n",
    "                                                                                         engine, \n",
    "                                                                                         if_exists='append')\n",
    "        # Удаляем файл\n",
    "        path = Path(name)\n",
    "        path.unlink()"
   ]
  },
  {
   "cell_type": "code",
   "execution_count": 73,
   "metadata": {},
   "outputs": [
    {
     "name": "stdout",
     "output_type": "stream",
     "text": [
      "46.77 1135740003431 5753060431 575301001 ООО \"ОРЕЛМЕТАЛЛИНВЕСТ\"\n",
      "46.77 1135740003431 5753060431 575301001 ООО \"ОРЕЛМЕТАЛЛИНВЕСТ\"\n",
      "46.77 1135740003431 5753060431 575301001 ООО \"ОРЕЛМЕТАЛЛИНВЕСТ\"\n",
      "46.77 1135740003431 5753060431 575301001 ООО \"ОРЕЛМЕТАЛЛИНВЕСТ\"\n",
      "46.77 1135740003431 5753060431 575301001 ООО \"ОРЕЛМЕТАЛЛИНВЕСТ\"\n",
      "46.77 1135740003442 5753060449 575301001 ООО \"СТРОЙТЕХМОНТАЖ\"\n",
      "46.77 1135740003442 5753060449 575301001 ООО \"СТРОЙТЕХМОНТАЖ\"\n",
      "46.77 1135740003442 5753060449 575301001 ООО \"СТРОЙТЕХМОНТАЖ\"\n",
      "46.77 1135740003442 5753060449 575301001 ООО \"СТРОЙТЕХМОНТАЖ\"\n",
      "46.77 1135740003442 5753060449 575301001 ООО \"СТРОЙТЕХМОНТАЖ\"\n"
     ]
    },
    {
     "ename": "KeyError",
     "evalue": "'СвОКВЭД'",
     "output_type": "error",
     "traceback": [
      "\u001b[1;31m---------------------------------------------------------------------------\u001b[0m",
      "\u001b[1;31mKeyError\u001b[0m                                  Traceback (most recent call last)",
      "Cell \u001b[1;32mIn[73], line 6\u001b[0m\n\u001b[0;32m      4\u001b[0m kpp \u001b[39m=\u001b[39m perv[\u001b[39m'\u001b[39m\u001b[39mkpp\u001b[39m\u001b[39m'\u001b[39m]\n\u001b[0;32m      5\u001b[0m name \u001b[39m=\u001b[39m perv[\u001b[39m'\u001b[39m\u001b[39mname\u001b[39m\u001b[39m'\u001b[39m]\n\u001b[1;32m----> 6\u001b[0m \u001b[39mfor\u001b[39;00m okved \u001b[39min\u001b[39;00m perv[\u001b[39m'\u001b[39;49m\u001b[39mdata\u001b[39;49m\u001b[39m'\u001b[39;49m][\u001b[39m'\u001b[39;49m\u001b[39mСвОКВЭД\u001b[39;49m\u001b[39m'\u001b[39;49m][\u001b[39m'\u001b[39m\u001b[39mСвОКВЭДОсн\u001b[39m\u001b[39m'\u001b[39m][\u001b[39m'\u001b[39m\u001b[39mКодОКВЭД\u001b[39m\u001b[39m'\u001b[39m]:\n\u001b[0;32m      7\u001b[0m     \u001b[39m#if okved =='46.77':\u001b[39;00m\n\u001b[0;32m      8\u001b[0m     okved \u001b[39m=\u001b[39m perv[\u001b[39m'\u001b[39m\u001b[39mdata\u001b[39m\u001b[39m'\u001b[39m][\u001b[39m'\u001b[39m\u001b[39mСвОКВЭД\u001b[39m\u001b[39m'\u001b[39m][\u001b[39m'\u001b[39m\u001b[39mСвОКВЭДОсн\u001b[39m\u001b[39m'\u001b[39m][\u001b[39m'\u001b[39m\u001b[39mКодОКВЭД\u001b[39m\u001b[39m'\u001b[39m]\n\u001b[0;32m      9\u001b[0m     \u001b[39mif\u001b[39;00m okved \u001b[39m==\u001b[39m\u001b[39m'\u001b[39m\u001b[39m46.77\u001b[39m\u001b[39m'\u001b[39m:\n",
      "\u001b[1;31mKeyError\u001b[0m: 'СвОКВЭД'"
     ]
    }
   ],
   "source": [
    "for perv in base:\n",
    "    ogrn = perv['ogrn']\n",
    "    inn = perv['inn']\n",
    "    kpp = perv['kpp']\n",
    "    name = perv['name']\n",
    "    for okved in perv['data']['СвОКВЭД']['СвОКВЭДОсн']['КодОКВЭД']:\n",
    "        #if okved =='46.77':\n",
    "        okved = perv['data']['СвОКВЭД']['СвОКВЭДОсн']['КодОКВЭД']\n",
    "        if okved =='46.77':\n",
    "                print(okved,ogrn,inn,kpp,name)\n",
    "\n",
    "\n",
    "    #okved = perv['data']['СвОКВЭД']['СвОКВЭДОсн']['КодОКВЭД']\n",
    "\n",
    "    \n",
    "    #print(okved)\n",
    "    \n",
    "    \n",
    "           # engine = create_engine(\"sqlite:///hw1.db\", echo=True)\n",
    "           # names['ogrn', 'inn', 'kpp', 'name'].to_sql(\"telecom_companies\",engine, if_exists='append')\n",
    "    "
   ]
  },
  {
   "cell_type": "code",
   "execution_count": null,
   "metadata": {},
   "outputs": [],
   "source": [
    "#names[['ogrn', 'inn', 'kpp', 'name'][['data']['СвОКВЭД']['СвОКВЭДОсн']:КодОКВЭД]].to_sql(\"telecom_companies\", \n",
    "                                                            #engine,\n",
    "                                                            ##if_exists='append',\n",
    "                                                           # index=False)\n"
   ]
  },
  {
   "cell_type": "code",
   "execution_count": null,
   "metadata": {},
   "outputs": [],
   "source": [
    "type(data[0]['data']['СвОКВЭД']['СвОКВЭДОсн']['КодОКВЭД'])"
   ]
  }
 ],
 "metadata": {
  "kernelspec": {
   "display_name": "Python 3",
   "language": "python",
   "name": "python3"
  },
  "language_info": {
   "codemirror_mode": {
    "name": "ipython",
    "version": 3
   },
   "file_extension": ".py",
   "mimetype": "text/x-python",
   "name": "python",
   "nbconvert_exporter": "python",
   "pygments_lexer": "ipython3",
   "version": "3.11.3"
  },
  "orig_nbformat": 4
 },
 "nbformat": 4,
 "nbformat_minor": 2
}
