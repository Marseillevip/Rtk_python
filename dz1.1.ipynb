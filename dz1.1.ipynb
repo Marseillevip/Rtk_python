{
 "cells": [
  {
   "cell_type": "code",
   "execution_count": 108,
   "metadata": {},
   "outputs": [
    {
     "data": {
      "text/plain": [
       "<function Connection.close()>"
      ]
     },
     "execution_count": 108,
     "metadata": {},
     "output_type": "execute_result"
    }
   ],
   "source": [
    "import sqlite3\n",
    "import json\n",
    "import pandas as pd\n",
    "# Подключаемся к базе данных\n",
    "connection = sqlite3.connect('hw1.db')\n",
    "# Создаем курсор\n",
    "cursor = connection.cursor()\n",
    "# Оператор SQL для создания таблицы\n",
    "create_okved_table = \"\"\"\n",
    "CREATE TABLE IF NOT EXISTS okved(\n",
    "    code INTEGER,\n",
    "    parent_code INTEGER,\n",
    "    section INTEGER,\n",
    "    name TEXT,\n",
    "    comment TEXT \n",
    ")\n",
    "\"\"\"\n",
    "\n",
    "# Запускаем команду создания таблицы\n",
    "cursor.execute(create_okved_table)\n",
    "\n",
    "# Фиксируем изменения\n",
    "connection.commit()\n",
    "\n",
    "# Читаем данные из файла JSON\n",
    "okved = pd.read_json(\"okved_2.json\",\n",
    "                     encoding=\"UTF=8\")\n",
    "\n",
    "# Записываем данные в таблицу\n",
    "names.to_sql('okved', \n",
    "             connection, \n",
    "             if_exists='append',\n",
    "             index=False)\n",
    "cursor.close\n",
    "connection.close"
   ]
  }
 ],
 "metadata": {
  "kernelspec": {
   "display_name": "Python 3",
   "language": "python",
   "name": "python3"
  },
  "language_info": {
   "codemirror_mode": {
    "name": "ipython",
    "version": 3
   },
   "file_extension": ".py",
   "mimetype": "text/x-python",
   "name": "python",
   "nbconvert_exporter": "python",
   "pygments_lexer": "ipython3",
   "version": "3.11.3"
  },
  "orig_nbformat": 4
 },
 "nbformat": 4,
 "nbformat_minor": 2
}
